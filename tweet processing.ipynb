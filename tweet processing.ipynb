{
 "cells": [
  {
   "cell_type": "code",
   "execution_count": 1,
   "metadata": {},
   "outputs": [],
   "source": [
    "#Basic libraries\n",
    "import pandas as pd \n",
    "import numpy as np \n",
    "#Ignore warnings\n",
    "import warnings\n",
    "warnings.filterwarnings('ignore')\n",
    "#Visualization libraries\n",
    "import matplotlib.pyplot as plt \n",
    "from matplotlib import rcParams\n",
    "import seaborn as sns\n",
    "from textblob import TextBlob\n",
    "from plotly import tools\n",
    "import plotly.graph_objs as go\n",
    "from plotly.offline import iplot\n",
    "%matplotlib inline"
   ]
  },
  {
   "cell_type": "code",
   "execution_count": 2,
   "metadata": {},
   "outputs": [],
   "source": [
    "raw_reviews = pd.read_csv('combined_csv1.csv')"
   ]
  },
  {
   "cell_type": "code",
   "execution_count": 3,
   "metadata": {},
   "outputs": [
    {
     "name": "stdout",
     "output_type": "stream",
     "text": [
      "<class 'pandas.core.frame.DataFrame'>\n",
      "RangeIndex: 22149 entries, 0 to 22148\n",
      "Data columns (total 5 columns):\n",
      " #   Column      Non-Null Count  Dtype  \n",
      "---  ------      --------------  -----  \n",
      " 0   Tweet_time  22149 non-null  object \n",
      " 1   Id          22149 non-null  float64\n",
      " 2   user name   22149 non-null  object \n",
      " 3   Place       15306 non-null  object \n",
      " 4   Text        22149 non-null  object \n",
      "dtypes: float64(1), object(4)\n",
      "memory usage: 865.3+ KB\n",
      "None\n"
     ]
    }
   ],
   "source": [
    "print (raw_reviews.info())"
   ]
  },
  {
   "cell_type": "code",
   "execution_count": 4,
   "metadata": {},
   "outputs": [],
   "source": [
    "raw_reviews['Tweet_time'] = pd.to_datetime(raw_reviews.Tweet_time, format='%d-%m-%Y %H:%M')"
   ]
  },
  {
   "cell_type": "code",
   "execution_count": 5,
   "metadata": {},
   "outputs": [
    {
     "name": "stdout",
     "output_type": "stream",
     "text": [
      "<class 'pandas.core.frame.DataFrame'>\n",
      "RangeIndex: 22149 entries, 0 to 22148\n",
      "Data columns (total 5 columns):\n",
      " #   Column      Non-Null Count  Dtype         \n",
      "---  ------      --------------  -----         \n",
      " 0   Tweet_time  22149 non-null  datetime64[ns]\n",
      " 1   Id          22149 non-null  float64       \n",
      " 2   user name   22149 non-null  object        \n",
      " 3   Place       15306 non-null  object        \n",
      " 4   Text        22149 non-null  object        \n",
      "dtypes: datetime64[ns](1), float64(1), object(3)\n",
      "memory usage: 865.3+ KB\n",
      "None\n"
     ]
    }
   ],
   "source": [
    "print (raw_reviews.info())"
   ]
  },
  {
   "cell_type": "code",
   "execution_count": 6,
   "metadata": {},
   "outputs": [
    {
     "data": {
      "text/plain": [
       "Tweet_time       0\n",
       "Id               0\n",
       "user name        0\n",
       "Place         6843\n",
       "Text             0\n",
       "dtype: int64"
      ]
     },
     "execution_count": 6,
     "metadata": {},
     "output_type": "execute_result"
    }
   ],
   "source": [
    "#Creating a copy\n",
    "process_reviews=raw_reviews.copy()\n",
    "\n",
    "#Checking for null values\n",
    "process_reviews.isnull().sum()"
   ]
  },
  {
   "cell_type": "code",
   "execution_count": 7,
   "metadata": {},
   "outputs": [],
   "source": [
    "process_reviews['Place']=process_reviews['Place'].fillna('N.A')"
   ]
  },
  {
   "cell_type": "code",
   "execution_count": 8,
   "metadata": {},
   "outputs": [
    {
     "data": {
      "text/plain": [
       "0       2021-05-02 19:28:00+05:30\n",
       "1       2021-05-02 19:28:00+05:30\n",
       "2       2021-05-02 19:28:00+05:30\n",
       "3       2021-05-02 19:27:00+05:30\n",
       "4       2021-05-02 19:27:00+05:30\n",
       "                   ...           \n",
       "22144   2021-05-02 23:11:00+05:30\n",
       "22145   2021-05-02 23:11:00+05:30\n",
       "22146   2021-05-02 23:11:00+05:30\n",
       "22147   2021-05-02 23:11:00+05:30\n",
       "22148   2021-05-02 23:10:00+05:30\n",
       "Name: Tweet_time, Length: 22149, dtype: datetime64[ns, Asia/Kolkata]"
      ]
     },
     "execution_count": 8,
     "metadata": {},
     "output_type": "execute_result"
    }
   ],
   "source": [
    "process_reviews['Tweet_time'].dt.tz_localize('utc').dt.tz_convert('Asia/Kolkata')"
   ]
  },
  {
   "cell_type": "code",
   "execution_count": 9,
   "metadata": {},
   "outputs": [],
   "source": [
    "#Creating a copy \n",
    "clean_reviews=process_reviews.copy()\n",
    "import re\n",
    "import string"
   ]
  },
  {
   "cell_type": "code",
   "execution_count": 10,
   "metadata": {},
   "outputs": [],
   "source": [
    "def review_cleaning(text):\n",
    "    '''Make text lowercase, remove text in square brackets,remove links,remove punctuation\n",
    "    and remove words containing numbers.'''\n",
    "    text = str(text).lower()\n",
    "    text = re.sub('\\[.*?\\]', '', text)\n",
    "    text = re.sub('https?://\\S+|www\\.\\S+', '', text)\n",
    "    text = re.sub('<.*?>+', '', text)\n",
    "    text = re.sub('[%s]' % re.escape(string.punctuation), '', text)\n",
    "    text = re.sub('\\n', '', text)\n",
    "    text = re.sub('\\w*\\d\\w*', '', text)\n",
    "    return text"
   ]
  },
  {
   "cell_type": "code",
   "execution_count": 11,
   "metadata": {},
   "outputs": [
    {
     "data": {
      "text/html": [
       "<div>\n",
       "<style scoped>\n",
       "    .dataframe tbody tr th:only-of-type {\n",
       "        vertical-align: middle;\n",
       "    }\n",
       "\n",
       "    .dataframe tbody tr th {\n",
       "        vertical-align: top;\n",
       "    }\n",
       "\n",
       "    .dataframe thead th {\n",
       "        text-align: right;\n",
       "    }\n",
       "</style>\n",
       "<table border=\"1\" class=\"dataframe\">\n",
       "  <thead>\n",
       "    <tr style=\"text-align: right;\">\n",
       "      <th></th>\n",
       "      <th>Tweet_time</th>\n",
       "      <th>Id</th>\n",
       "      <th>user name</th>\n",
       "      <th>Place</th>\n",
       "      <th>Text</th>\n",
       "    </tr>\n",
       "  </thead>\n",
       "  <tbody>\n",
       "    <tr>\n",
       "      <th>0</th>\n",
       "      <td>2021-05-02 13:58:00</td>\n",
       "      <td>1.388860e+18</td>\n",
       "      <td>rishitagupta_</td>\n",
       "      <td>N.A</td>\n",
       "      <td>rt  matchday\\r\\r\\r\\rpkbs klrahul dc  cricket p...</td>\n",
       "    </tr>\n",
       "    <tr>\n",
       "      <th>1</th>\n",
       "      <td>2021-05-02 13:58:00</td>\n",
       "      <td>1.388860e+18</td>\n",
       "      <td>soul_cricket</td>\n",
       "      <td>N.A</td>\n",
       "      <td>rt  matchday\\r\\r\\r\\rpkbs klrahul dc  cricket p...</td>\n",
       "    </tr>\n",
       "    <tr>\n",
       "      <th>2</th>\n",
       "      <td>2021-05-02 13:58:00</td>\n",
       "      <td>1.388860e+18</td>\n",
       "      <td>Im4TestCricket</td>\n",
       "      <td>Bangalore-Srikalahasti</td>\n",
       "      <td>rt adsutherland if the ipl were a first class ...</td>\n",
       "    </tr>\n",
       "    <tr>\n",
       "      <th>3</th>\n",
       "      <td>2021-05-02 13:57:00</td>\n",
       "      <td>1.388860e+18</td>\n",
       "      <td>JuliasMotaung</td>\n",
       "      <td>Johannesburg,Gauteng</td>\n",
       "      <td>pirates vs sundowns match is boring ☹️ i rathe...</td>\n",
       "    </tr>\n",
       "    <tr>\n",
       "      <th>4</th>\n",
       "      <td>2021-05-02 13:57:00</td>\n",
       "      <td>1.388860e+18</td>\n",
       "      <td>CricTelegraph</td>\n",
       "      <td>At Cricket</td>\n",
       "      <td>punjab kings playing xi 🏏\\r\\ripl  pbks delhica...</td>\n",
       "    </tr>\n",
       "  </tbody>\n",
       "</table>\n",
       "</div>"
      ],
      "text/plain": [
       "           Tweet_time            Id       user name                   Place  \\\n",
       "0 2021-05-02 13:58:00  1.388860e+18   rishitagupta_                     N.A   \n",
       "1 2021-05-02 13:58:00  1.388860e+18    soul_cricket                     N.A   \n",
       "2 2021-05-02 13:58:00  1.388860e+18  Im4TestCricket  Bangalore-Srikalahasti   \n",
       "3 2021-05-02 13:57:00  1.388860e+18   JuliasMotaung    Johannesburg,Gauteng   \n",
       "4 2021-05-02 13:57:00  1.388860e+18   CricTelegraph              At Cricket   \n",
       "\n",
       "                                                Text  \n",
       "0  rt  matchday\\r\\r\\r\\rpkbs klrahul dc  cricket p...  \n",
       "1  rt  matchday\\r\\r\\r\\rpkbs klrahul dc  cricket p...  \n",
       "2  rt adsutherland if the ipl were a first class ...  \n",
       "3  pirates vs sundowns match is boring ☹️ i rathe...  \n",
       "4  punjab kings playing xi 🏏\\r\\ripl  pbks delhica...  "
      ]
     },
     "execution_count": 11,
     "metadata": {},
     "output_type": "execute_result"
    }
   ],
   "source": [
    "process_reviews['Text']=process_reviews['Text'].apply(lambda x:review_cleaning(x))\n",
    "process_reviews.head()"
   ]
  },
  {
   "cell_type": "code",
   "execution_count": 12,
   "metadata": {},
   "outputs": [],
   "source": [
    "stop_words= ['yourselves', 'between', 'whom', 'itself', 'is', \"she's\", 'up', 'herself', 'here', 'your', 'each', \n",
    "             'we', 'he', 'my', \"you've\", 'having', 'in', 'both', 'for', 'themselves', 'are', 'them', 'other',\n",
    "             'and', 'an', 'during', 'their', 'can', 'yourself', 'she', 'until', 'so', 'these', 'ours', 'above', \n",
    "             'what', 'while', 'have', 're', 'more', 'only', \"needn't\", 'when', 'just', 'that', 'were', \"don't\", \n",
    "             'very', 'should', 'any', 'y', 'isn', 'who',  'a', 'they', 'to', 'too', \"should've\", 'has', 'before',\n",
    "             'into', 'yours', \"it's\", 'do', 'against', 'on',  'now', 'her', 've', 'd', 'by', 'am', 'from', \n",
    "             'about', 'further', \"that'll\", \"you'd\", 'you', 'as', 'how', 'been', 'the', 'or', 'doing', 'such',\n",
    "             'his', 'himself', 'ourselves',  'was', 'through', 'out', 'below', 'own', 'myself', 'theirs', \n",
    "             'me', 'why', 'once',  'him', 'than', 'be', 'most', \"you'll\", 'same', 'some', 'with', 'few', 'it',\n",
    "             'at', 'after', 'its', 'which', 'there','our', 'this', 'hers', 'being', 'did', 'of', 'had', 'under',\n",
    "             'over','again', 'where', 'those', 'then', \"you're\", 'i', 'because', 'does', 'all']"
   ]
  },
  {
   "cell_type": "code",
   "execution_count": 13,
   "metadata": {},
   "outputs": [
    {
     "data": {
      "text/html": [
       "<div>\n",
       "<style scoped>\n",
       "    .dataframe tbody tr th:only-of-type {\n",
       "        vertical-align: middle;\n",
       "    }\n",
       "\n",
       "    .dataframe tbody tr th {\n",
       "        vertical-align: top;\n",
       "    }\n",
       "\n",
       "    .dataframe thead th {\n",
       "        text-align: right;\n",
       "    }\n",
       "</style>\n",
       "<table border=\"1\" class=\"dataframe\">\n",
       "  <thead>\n",
       "    <tr style=\"text-align: right;\">\n",
       "      <th></th>\n",
       "      <th>Tweet_time</th>\n",
       "      <th>Id</th>\n",
       "      <th>user name</th>\n",
       "      <th>Place</th>\n",
       "      <th>Text</th>\n",
       "    </tr>\n",
       "  </thead>\n",
       "  <tbody>\n",
       "    <tr>\n",
       "      <th>0</th>\n",
       "      <td>2021-05-02 13:58:00</td>\n",
       "      <td>1.388860e+18</td>\n",
       "      <td>rishitagupta_</td>\n",
       "      <td>N.A</td>\n",
       "      <td>rt matchday pkbs klrahul dc cricket punjabking...</td>\n",
       "    </tr>\n",
       "    <tr>\n",
       "      <th>1</th>\n",
       "      <td>2021-05-02 13:58:00</td>\n",
       "      <td>1.388860e+18</td>\n",
       "      <td>soul_cricket</td>\n",
       "      <td>N.A</td>\n",
       "      <td>rt matchday pkbs klrahul dc cricket punjabking...</td>\n",
       "    </tr>\n",
       "    <tr>\n",
       "      <th>2</th>\n",
       "      <td>2021-05-02 13:58:00</td>\n",
       "      <td>1.388860e+18</td>\n",
       "      <td>Im4TestCricket</td>\n",
       "      <td>Bangalore-Srikalahasti</td>\n",
       "      <td>rt adsutherland if ipl first class tournament ...</td>\n",
       "    </tr>\n",
       "    <tr>\n",
       "      <th>3</th>\n",
       "      <td>2021-05-02 13:57:00</td>\n",
       "      <td>1.388860e+18</td>\n",
       "      <td>JuliasMotaung</td>\n",
       "      <td>Johannesburg,Gauteng</td>\n",
       "      <td>pirates vs sundowns match boring ☹️ rather wat...</td>\n",
       "    </tr>\n",
       "    <tr>\n",
       "      <th>4</th>\n",
       "      <td>2021-05-02 13:57:00</td>\n",
       "      <td>1.388860e+18</td>\n",
       "      <td>CricTelegraph</td>\n",
       "      <td>At Cricket</td>\n",
       "      <td>punjab kings playing xi 🏏 ipl pbks delhicapita...</td>\n",
       "    </tr>\n",
       "  </tbody>\n",
       "</table>\n",
       "</div>"
      ],
      "text/plain": [
       "           Tweet_time            Id       user name                   Place  \\\n",
       "0 2021-05-02 13:58:00  1.388860e+18   rishitagupta_                     N.A   \n",
       "1 2021-05-02 13:58:00  1.388860e+18    soul_cricket                     N.A   \n",
       "2 2021-05-02 13:58:00  1.388860e+18  Im4TestCricket  Bangalore-Srikalahasti   \n",
       "3 2021-05-02 13:57:00  1.388860e+18   JuliasMotaung    Johannesburg,Gauteng   \n",
       "4 2021-05-02 13:57:00  1.388860e+18   CricTelegraph              At Cricket   \n",
       "\n",
       "                                                Text  \n",
       "0  rt matchday pkbs klrahul dc cricket punjabking...  \n",
       "1  rt matchday pkbs klrahul dc cricket punjabking...  \n",
       "2  rt adsutherland if ipl first class tournament ...  \n",
       "3  pirates vs sundowns match boring ☹️ rather wat...  \n",
       "4  punjab kings playing xi 🏏 ipl pbks delhicapita...  "
      ]
     },
     "execution_count": 13,
     "metadata": {},
     "output_type": "execute_result"
    }
   ],
   "source": [
    "process_reviews['Text'] = process_reviews['Text'].apply(lambda x: ' '.join([word for word in x.split() if word not in (stop_words)]))\n",
    "process_reviews.head()"
   ]
  },
  {
   "cell_type": "code",
   "execution_count": 14,
   "metadata": {},
   "outputs": [],
   "source": [
    "process_reviews['polarity_C'] = process_reviews['Text'].map(lambda text: TextBlob(text).sentiment.polarity)\n",
    "process_reviews['subjectivity'] = process_reviews['Text'].map(lambda text: TextBlob(text).sentiment.subjectivity)"
   ]
  },
  {
   "cell_type": "code",
   "execution_count": 15,
   "metadata": {},
   "outputs": [],
   "source": [
    "def f(row):\n",
    "    \n",
    "    '''This function returns sentiment value based on the overall ratings from the user'''\n",
    "    \n",
    "    if row['polarity_C'] == 0.0:\n",
    "        val = 0\n",
    "    elif row['polarity_C'] < 0.0:\n",
    "        val = -1\n",
    "    elif row['polarity_C'] > 0.0:\n",
    "        val = 1\n",
    "    else:\n",
    "        val = -1\n",
    "    return val"
   ]
  },
  {
   "cell_type": "code",
   "execution_count": 16,
   "metadata": {},
   "outputs": [
    {
     "data": {
      "text/html": [
       "<div>\n",
       "<style scoped>\n",
       "    .dataframe tbody tr th:only-of-type {\n",
       "        vertical-align: middle;\n",
       "    }\n",
       "\n",
       "    .dataframe tbody tr th {\n",
       "        vertical-align: top;\n",
       "    }\n",
       "\n",
       "    .dataframe thead th {\n",
       "        text-align: right;\n",
       "    }\n",
       "</style>\n",
       "<table border=\"1\" class=\"dataframe\">\n",
       "  <thead>\n",
       "    <tr style=\"text-align: right;\">\n",
       "      <th></th>\n",
       "      <th>Tweet_time</th>\n",
       "      <th>Id</th>\n",
       "      <th>user name</th>\n",
       "      <th>Place</th>\n",
       "      <th>Text</th>\n",
       "      <th>polarity_C</th>\n",
       "      <th>subjectivity</th>\n",
       "      <th>sentiment</th>\n",
       "    </tr>\n",
       "  </thead>\n",
       "  <tbody>\n",
       "    <tr>\n",
       "      <th>0</th>\n",
       "      <td>2021-05-02 13:58:00</td>\n",
       "      <td>1.388860e+18</td>\n",
       "      <td>rishitagupta_</td>\n",
       "      <td>N.A</td>\n",
       "      <td>rt matchday pkbs klrahul dc cricket punjabking...</td>\n",
       "      <td>0.000</td>\n",
       "      <td>0.000000</td>\n",
       "      <td>0</td>\n",
       "    </tr>\n",
       "    <tr>\n",
       "      <th>1</th>\n",
       "      <td>2021-05-02 13:58:00</td>\n",
       "      <td>1.388860e+18</td>\n",
       "      <td>soul_cricket</td>\n",
       "      <td>N.A</td>\n",
       "      <td>rt matchday pkbs klrahul dc cricket punjabking...</td>\n",
       "      <td>0.000</td>\n",
       "      <td>0.000000</td>\n",
       "      <td>0</td>\n",
       "    </tr>\n",
       "    <tr>\n",
       "      <th>2</th>\n",
       "      <td>2021-05-02 13:58:00</td>\n",
       "      <td>1.388860e+18</td>\n",
       "      <td>Im4TestCricket</td>\n",
       "      <td>Bangalore-Srikalahasti</td>\n",
       "      <td>rt adsutherland if ipl first class tournament ...</td>\n",
       "      <td>0.075</td>\n",
       "      <td>0.616667</td>\n",
       "      <td>1</td>\n",
       "    </tr>\n",
       "    <tr>\n",
       "      <th>3</th>\n",
       "      <td>2021-05-02 13:57:00</td>\n",
       "      <td>1.388860e+18</td>\n",
       "      <td>JuliasMotaung</td>\n",
       "      <td>Johannesburg,Gauteng</td>\n",
       "      <td>pirates vs sundowns match boring ☹️ rather wat...</td>\n",
       "      <td>-1.000</td>\n",
       "      <td>1.000000</td>\n",
       "      <td>-1</td>\n",
       "    </tr>\n",
       "    <tr>\n",
       "      <th>4</th>\n",
       "      <td>2021-05-02 13:57:00</td>\n",
       "      <td>1.388860e+18</td>\n",
       "      <td>CricTelegraph</td>\n",
       "      <td>At Cricket</td>\n",
       "      <td>punjab kings playing xi 🏏 ipl pbks delhicapita...</td>\n",
       "      <td>0.000</td>\n",
       "      <td>0.000000</td>\n",
       "      <td>0</td>\n",
       "    </tr>\n",
       "  </tbody>\n",
       "</table>\n",
       "</div>"
      ],
      "text/plain": [
       "           Tweet_time            Id       user name                   Place  \\\n",
       "0 2021-05-02 13:58:00  1.388860e+18   rishitagupta_                     N.A   \n",
       "1 2021-05-02 13:58:00  1.388860e+18    soul_cricket                     N.A   \n",
       "2 2021-05-02 13:58:00  1.388860e+18  Im4TestCricket  Bangalore-Srikalahasti   \n",
       "3 2021-05-02 13:57:00  1.388860e+18   JuliasMotaung    Johannesburg,Gauteng   \n",
       "4 2021-05-02 13:57:00  1.388860e+18   CricTelegraph              At Cricket   \n",
       "\n",
       "                                                Text  polarity_C  \\\n",
       "0  rt matchday pkbs klrahul dc cricket punjabking...       0.000   \n",
       "1  rt matchday pkbs klrahul dc cricket punjabking...       0.000   \n",
       "2  rt adsutherland if ipl first class tournament ...       0.075   \n",
       "3  pirates vs sundowns match boring ☹️ rather wat...      -1.000   \n",
       "4  punjab kings playing xi 🏏 ipl pbks delhicapita...       0.000   \n",
       "\n",
       "   subjectivity  sentiment  \n",
       "0      0.000000          0  \n",
       "1      0.000000          0  \n",
       "2      0.616667          1  \n",
       "3      1.000000         -1  \n",
       "4      0.000000          0  "
      ]
     },
     "execution_count": 16,
     "metadata": {},
     "output_type": "execute_result"
    }
   ],
   "source": [
    "#Applying the function in our new column\n",
    "process_reviews['sentiment'] = process_reviews.apply(f, axis=1)\n",
    "process_reviews.head()"
   ]
  },
  {
   "cell_type": "code",
   "execution_count": 17,
   "metadata": {},
   "outputs": [
    {
     "data": {
      "text/plain": [
       " 0    12355\n",
       " 1     7918\n",
       "-1     1876\n",
       "Name: sentiment, dtype: int64"
      ]
     },
     "execution_count": 17,
     "metadata": {},
     "output_type": "execute_result"
    }
   ],
   "source": [
    "process_reviews['sentiment'].value_counts()"
   ]
  },
  {
   "cell_type": "code",
   "execution_count": 18,
   "metadata": {},
   "outputs": [],
   "source": [
    "df = process_reviews.groupby(raw_reviews['Tweet_time']).mean()"
   ]
  },
  {
   "cell_type": "code",
   "execution_count": 19,
   "metadata": {},
   "outputs": [
    {
     "data": {
      "text/plain": [
       " 0.000000    5\n",
       " 0.500000    5\n",
       " 0.200000    3\n",
       " 0.142857    3\n",
       " 0.285714    3\n",
       "            ..\n",
       " 0.427350    1\n",
       " 0.642857    1\n",
       " 0.191489    1\n",
       "-0.006711    1\n",
       " 0.750000    1\n",
       "Name: sentiment, Length: 230, dtype: int64"
      ]
     },
     "execution_count": 19,
     "metadata": {},
     "output_type": "execute_result"
    }
   ],
   "source": [
    "df['sentiment'].value_counts()"
   ]
  },
  {
   "cell_type": "code",
   "execution_count": 20,
   "metadata": {},
   "outputs": [],
   "source": [
    "df['sentiment1'] = df.apply(f, axis=1)"
   ]
  },
  {
   "cell_type": "code",
   "execution_count": 21,
   "metadata": {},
   "outputs": [],
   "source": [
    "def f1(row):\n",
    "    \n",
    "    '''This function returns sentiment value based on the overall ratings from the user'''\n",
    "    \n",
    "    if row['sentiment'] == 0.0:\n",
    "        val = 0\n",
    "    elif row['sentiment'] < 0.0:\n",
    "        val = -1\n",
    "    elif row['sentiment'] > 0.0:\n",
    "        val = 1\n",
    "    else:\n",
    "        val = -1\n",
    "    return val"
   ]
  },
  {
   "cell_type": "code",
   "execution_count": null,
   "metadata": {},
   "outputs": [],
   "source": [
    "df['sentiment2'] = process_reviews.apply(f, axis=1)"
   ]
  },
  {
   "cell_type": "code",
   "execution_count": null,
   "metadata": {},
   "outputs": [],
   "source": [
    "df.to_csv('out4.csv')"
   ]
  },
  {
   "cell_type": "code",
   "execution_count": null,
   "metadata": {},
   "outputs": [],
   "source": [
    "df.head()"
   ]
  },
  {
   "cell_type": "code",
   "execution_count": null,
   "metadata": {},
   "outputs": [],
   "source": [
    "df.rename(columns={'time': 'Tweet_time'})"
   ]
  },
  {
   "cell_type": "code",
   "execution_count": null,
   "metadata": {},
   "outputs": [],
   "source": [
    "df.rename(columns={'Tweet_time': 'time'}, inplace=True)"
   ]
  },
  {
   "cell_type": "code",
   "execution_count": 23,
   "metadata": {},
   "outputs": [
    {
     "data": {
      "text/html": [
       "<div>\n",
       "<style scoped>\n",
       "    .dataframe tbody tr th:only-of-type {\n",
       "        vertical-align: middle;\n",
       "    }\n",
       "\n",
       "    .dataframe tbody tr th {\n",
       "        vertical-align: top;\n",
       "    }\n",
       "\n",
       "    .dataframe thead th {\n",
       "        text-align: right;\n",
       "    }\n",
       "</style>\n",
       "<table border=\"1\" class=\"dataframe\">\n",
       "  <thead>\n",
       "    <tr style=\"text-align: right;\">\n",
       "      <th></th>\n",
       "      <th>Id</th>\n",
       "      <th>polarity_C</th>\n",
       "      <th>subjectivity</th>\n",
       "      <th>sentiment</th>\n",
       "      <th>sentiment1</th>\n",
       "    </tr>\n",
       "    <tr>\n",
       "      <th>Tweet_time</th>\n",
       "      <th></th>\n",
       "      <th></th>\n",
       "      <th></th>\n",
       "      <th></th>\n",
       "      <th></th>\n",
       "    </tr>\n",
       "  </thead>\n",
       "  <tbody>\n",
       "    <tr>\n",
       "      <th>2021-05-02 13:35:00</th>\n",
       "      <td>1.388850e+18</td>\n",
       "      <td>0.369697</td>\n",
       "      <td>0.343750</td>\n",
       "      <td>0.750000</td>\n",
       "      <td>1</td>\n",
       "    </tr>\n",
       "    <tr>\n",
       "      <th>2021-05-02 13:36:00</th>\n",
       "      <td>1.388850e+18</td>\n",
       "      <td>0.109921</td>\n",
       "      <td>0.151984</td>\n",
       "      <td>0.142857</td>\n",
       "      <td>1</td>\n",
       "    </tr>\n",
       "    <tr>\n",
       "      <th>2021-05-02 13:37:00</th>\n",
       "      <td>1.388850e+18</td>\n",
       "      <td>0.142308</td>\n",
       "      <td>0.140705</td>\n",
       "      <td>0.384615</td>\n",
       "      <td>1</td>\n",
       "    </tr>\n",
       "    <tr>\n",
       "      <th>2021-05-02 13:38:00</th>\n",
       "      <td>1.388850e+18</td>\n",
       "      <td>0.122222</td>\n",
       "      <td>0.144444</td>\n",
       "      <td>0.000000</td>\n",
       "      <td>1</td>\n",
       "    </tr>\n",
       "    <tr>\n",
       "      <th>2021-05-02 13:39:00</th>\n",
       "      <td>1.388850e+18</td>\n",
       "      <td>0.127273</td>\n",
       "      <td>0.350000</td>\n",
       "      <td>0.181818</td>\n",
       "      <td>1</td>\n",
       "    </tr>\n",
       "  </tbody>\n",
       "</table>\n",
       "</div>"
      ],
      "text/plain": [
       "                               Id  polarity_C  subjectivity  sentiment  \\\n",
       "Tweet_time                                                               \n",
       "2021-05-02 13:35:00  1.388850e+18    0.369697      0.343750   0.750000   \n",
       "2021-05-02 13:36:00  1.388850e+18    0.109921      0.151984   0.142857   \n",
       "2021-05-02 13:37:00  1.388850e+18    0.142308      0.140705   0.384615   \n",
       "2021-05-02 13:38:00  1.388850e+18    0.122222      0.144444   0.000000   \n",
       "2021-05-02 13:39:00  1.388850e+18    0.127273      0.350000   0.181818   \n",
       "\n",
       "                     sentiment1  \n",
       "Tweet_time                       \n",
       "2021-05-02 13:35:00           1  \n",
       "2021-05-02 13:36:00           1  \n",
       "2021-05-02 13:37:00           1  \n",
       "2021-05-02 13:38:00           1  \n",
       "2021-05-02 13:39:00           1  "
      ]
     },
     "execution_count": 23,
     "metadata": {},
     "output_type": "execute_result"
    }
   ],
   "source": [
    "df.head()"
   ]
  },
  {
   "cell_type": "code",
   "execution_count": 24,
   "metadata": {},
   "outputs": [
    {
     "ename": "KeyError",
     "evalue": "'Tweet_time'",
     "output_type": "error",
     "traceback": [
      "\u001b[1;31m---------------------------------------------------------------------------\u001b[0m",
      "\u001b[1;31mKeyError\u001b[0m                                  Traceback (most recent call last)",
      "\u001b[1;32me:\\programs\\python\\python39\\lib\\site-packages\\pandas\\core\\indexes\\base.py\u001b[0m in \u001b[0;36mget_loc\u001b[1;34m(self, key, method, tolerance)\u001b[0m\n\u001b[0;32m   2897\u001b[0m             \u001b[1;32mtry\u001b[0m\u001b[1;33m:\u001b[0m\u001b[1;33m\u001b[0m\u001b[1;33m\u001b[0m\u001b[0m\n\u001b[1;32m-> 2898\u001b[1;33m                 \u001b[1;32mreturn\u001b[0m \u001b[0mself\u001b[0m\u001b[1;33m.\u001b[0m\u001b[0m_engine\u001b[0m\u001b[1;33m.\u001b[0m\u001b[0mget_loc\u001b[0m\u001b[1;33m(\u001b[0m\u001b[0mcasted_key\u001b[0m\u001b[1;33m)\u001b[0m\u001b[1;33m\u001b[0m\u001b[1;33m\u001b[0m\u001b[0m\n\u001b[0m\u001b[0;32m   2899\u001b[0m             \u001b[1;32mexcept\u001b[0m \u001b[0mKeyError\u001b[0m \u001b[1;32mas\u001b[0m \u001b[0merr\u001b[0m\u001b[1;33m:\u001b[0m\u001b[1;33m\u001b[0m\u001b[1;33m\u001b[0m\u001b[0m\n",
      "\u001b[1;32mpandas\\_libs\\index.pyx\u001b[0m in \u001b[0;36mpandas._libs.index.IndexEngine.get_loc\u001b[1;34m()\u001b[0m\n",
      "\u001b[1;32mpandas\\_libs\\index.pyx\u001b[0m in \u001b[0;36mpandas._libs.index.IndexEngine.get_loc\u001b[1;34m()\u001b[0m\n",
      "\u001b[1;32mpandas\\_libs\\hashtable_class_helper.pxi\u001b[0m in \u001b[0;36mpandas._libs.hashtable.PyObjectHashTable.get_item\u001b[1;34m()\u001b[0m\n",
      "\u001b[1;32mpandas\\_libs\\hashtable_class_helper.pxi\u001b[0m in \u001b[0;36mpandas._libs.hashtable.PyObjectHashTable.get_item\u001b[1;34m()\u001b[0m\n",
      "\u001b[1;31mKeyError\u001b[0m: 'Tweet_time'",
      "\nThe above exception was the direct cause of the following exception:\n",
      "\u001b[1;31mKeyError\u001b[0m                                  Traceback (most recent call last)",
      "\u001b[1;32m<ipython-input-24-b328d4858ca3>\u001b[0m in \u001b[0;36m<module>\u001b[1;34m\u001b[0m\n\u001b[1;32m----> 1\u001b[1;33m \u001b[0mdf\u001b[0m\u001b[1;33m[\u001b[0m\u001b[1;34m'Tweet_time'\u001b[0m\u001b[1;33m]\u001b[0m\u001b[1;33m.\u001b[0m\u001b[0mdt\u001b[0m\u001b[1;33m.\u001b[0m\u001b[0mstrftime\u001b[0m\u001b[1;33m(\u001b[0m\u001b[1;34m'%Y-%m-%d %H:%M:%S'\u001b[0m\u001b[1;33m)\u001b[0m\u001b[1;33m\u001b[0m\u001b[1;33m\u001b[0m\u001b[0m\n\u001b[0m",
      "\u001b[1;32me:\\programs\\python\\python39\\lib\\site-packages\\pandas\\core\\frame.py\u001b[0m in \u001b[0;36m__getitem__\u001b[1;34m(self, key)\u001b[0m\n\u001b[0;32m   2904\u001b[0m             \u001b[1;32mif\u001b[0m \u001b[0mself\u001b[0m\u001b[1;33m.\u001b[0m\u001b[0mcolumns\u001b[0m\u001b[1;33m.\u001b[0m\u001b[0mnlevels\u001b[0m \u001b[1;33m>\u001b[0m \u001b[1;36m1\u001b[0m\u001b[1;33m:\u001b[0m\u001b[1;33m\u001b[0m\u001b[1;33m\u001b[0m\u001b[0m\n\u001b[0;32m   2905\u001b[0m                 \u001b[1;32mreturn\u001b[0m \u001b[0mself\u001b[0m\u001b[1;33m.\u001b[0m\u001b[0m_getitem_multilevel\u001b[0m\u001b[1;33m(\u001b[0m\u001b[0mkey\u001b[0m\u001b[1;33m)\u001b[0m\u001b[1;33m\u001b[0m\u001b[1;33m\u001b[0m\u001b[0m\n\u001b[1;32m-> 2906\u001b[1;33m             \u001b[0mindexer\u001b[0m \u001b[1;33m=\u001b[0m \u001b[0mself\u001b[0m\u001b[1;33m.\u001b[0m\u001b[0mcolumns\u001b[0m\u001b[1;33m.\u001b[0m\u001b[0mget_loc\u001b[0m\u001b[1;33m(\u001b[0m\u001b[0mkey\u001b[0m\u001b[1;33m)\u001b[0m\u001b[1;33m\u001b[0m\u001b[1;33m\u001b[0m\u001b[0m\n\u001b[0m\u001b[0;32m   2907\u001b[0m             \u001b[1;32mif\u001b[0m \u001b[0mis_integer\u001b[0m\u001b[1;33m(\u001b[0m\u001b[0mindexer\u001b[0m\u001b[1;33m)\u001b[0m\u001b[1;33m:\u001b[0m\u001b[1;33m\u001b[0m\u001b[1;33m\u001b[0m\u001b[0m\n\u001b[0;32m   2908\u001b[0m                 \u001b[0mindexer\u001b[0m \u001b[1;33m=\u001b[0m \u001b[1;33m[\u001b[0m\u001b[0mindexer\u001b[0m\u001b[1;33m]\u001b[0m\u001b[1;33m\u001b[0m\u001b[1;33m\u001b[0m\u001b[0m\n",
      "\u001b[1;32me:\\programs\\python\\python39\\lib\\site-packages\\pandas\\core\\indexes\\base.py\u001b[0m in \u001b[0;36mget_loc\u001b[1;34m(self, key, method, tolerance)\u001b[0m\n\u001b[0;32m   2898\u001b[0m                 \u001b[1;32mreturn\u001b[0m \u001b[0mself\u001b[0m\u001b[1;33m.\u001b[0m\u001b[0m_engine\u001b[0m\u001b[1;33m.\u001b[0m\u001b[0mget_loc\u001b[0m\u001b[1;33m(\u001b[0m\u001b[0mcasted_key\u001b[0m\u001b[1;33m)\u001b[0m\u001b[1;33m\u001b[0m\u001b[1;33m\u001b[0m\u001b[0m\n\u001b[0;32m   2899\u001b[0m             \u001b[1;32mexcept\u001b[0m \u001b[0mKeyError\u001b[0m \u001b[1;32mas\u001b[0m \u001b[0merr\u001b[0m\u001b[1;33m:\u001b[0m\u001b[1;33m\u001b[0m\u001b[1;33m\u001b[0m\u001b[0m\n\u001b[1;32m-> 2900\u001b[1;33m                 \u001b[1;32mraise\u001b[0m \u001b[0mKeyError\u001b[0m\u001b[1;33m(\u001b[0m\u001b[0mkey\u001b[0m\u001b[1;33m)\u001b[0m \u001b[1;32mfrom\u001b[0m \u001b[0merr\u001b[0m\u001b[1;33m\u001b[0m\u001b[1;33m\u001b[0m\u001b[0m\n\u001b[0m\u001b[0;32m   2901\u001b[0m \u001b[1;33m\u001b[0m\u001b[0m\n\u001b[0;32m   2902\u001b[0m         \u001b[1;32mif\u001b[0m \u001b[0mtolerance\u001b[0m \u001b[1;32mis\u001b[0m \u001b[1;32mnot\u001b[0m \u001b[1;32mNone\u001b[0m\u001b[1;33m:\u001b[0m\u001b[1;33m\u001b[0m\u001b[1;33m\u001b[0m\u001b[0m\n",
      "\u001b[1;31mKeyError\u001b[0m: 'Tweet_time'"
     ]
    }
   ],
   "source": [
    "df['Tweet_time'].dt.strftime('%Y-%m-%d %H:%M:%S')"
   ]
  },
  {
   "cell_type": "code",
   "execution_count": null,
   "metadata": {},
   "outputs": [],
   "source": []
  }
 ],
 "metadata": {
  "kernelspec": {
   "display_name": "Python 3",
   "language": "python",
   "name": "python3"
  },
  "language_info": {
   "codemirror_mode": {
    "name": "ipython",
    "version": 3
   },
   "file_extension": ".py",
   "mimetype": "text/x-python",
   "name": "python",
   "nbconvert_exporter": "python",
   "pygments_lexer": "ipython3",
   "version": "3.9.1"
  }
 },
 "nbformat": 4,
 "nbformat_minor": 4
}
